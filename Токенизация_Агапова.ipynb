{
  "nbformat": 4,
  "nbformat_minor": 0,
  "metadata": {
    "colab": {
      "provenance": [],
      "authorship_tag": "ABX9TyPDWwu5c3otblGzN0uhkcSd",
      "include_colab_link": true
    },
    "kernelspec": {
      "name": "python3",
      "display_name": "Python 3"
    },
    "language_info": {
      "name": "python"
    }
  },
  "cells": [
    {
      "cell_type": "markdown",
      "metadata": {
        "id": "view-in-github",
        "colab_type": "text"
      },
      "source": [
        "<a href=\"https://colab.research.google.com/github/dariRusAG/Modern-programming-languages/blob/main/%D0%A2%D0%BE%D0%BA%D0%B5%D0%BD%D0%B8%D0%B7%D0%B0%D1%86%D0%B8%D1%8F_%D0%90%D0%B3%D0%B0%D0%BF%D0%BE%D0%B2%D0%B0.ipynb\" target=\"_parent\"><img src=\"https://colab.research.google.com/assets/colab-badge.svg\" alt=\"Open In Colab\"/></a>"
      ]
    },
    {
      "cell_type": "markdown",
      "source": [
        "# Лабораторная 3\n",
        "\n",
        "Токенизация:\n",
        "1. Разбить предложение на токены.\n",
        "2. Убрать из токенов стоп слова. \n",
        "3. Найти часто встречающиеся токены и вывести 10 штук на графике\n",
        "4. Посчитать количество существительных и прилагательных.\n",
        "5. По самым встречающимся словам, взять все предложения с этими словами и вывести их в порядке появления в тексте.\n",
        "6. Получить настроение текста."
      ],
      "metadata": {
        "id": "LLNPT6RFPsk1"
      }
    },
    {
      "cell_type": "markdown",
      "source": [
        "## Импорт библиотек"
      ],
      "metadata": {
        "id": "8upVm38LW39b"
      }
    },
    {
      "cell_type": "code",
      "source": [
        "import nltk\n",
        "import numpy as np\n",
        "import pandas as pd\n",
        "import matplotlib as mpl\n",
        "import matplotlib.pyplot as plt\n",
        "\n",
        "nltk.download('stopwords')\n",
        "nltk.download('punkt')\n",
        "nltk.download('averaged_perceptron_tagger')\n",
        "nltk.download('universal_tagset')\n",
        "\n",
        "from nltk import word_tokenize, sent_tokenize\n",
        "from string import punctuation\n",
        "from nltk.corpus import stopwords\n",
        "from nltk.tag import pos_tag\n",
        "from collections import Counter\n",
        "from nltk.sentiment.vader import SentimentIntensityAnalyzer"
      ],
      "metadata": {
        "colab": {
          "base_uri": "https://localhost:8080/"
        },
        "id": "xapHn6GyXmnB",
        "outputId": "2a17d509-d77a-484a-e8af-a7324c12e3bd"
      },
      "execution_count": null,
      "outputs": [
        {
          "output_type": "stream",
          "name": "stderr",
          "text": [
            "[nltk_data] Downloading package stopwords to /root/nltk_data...\n",
            "[nltk_data]   Package stopwords is already up-to-date!\n",
            "[nltk_data] Downloading package punkt to /root/nltk_data...\n",
            "[nltk_data]   Package punkt is already up-to-date!\n",
            "[nltk_data] Downloading package averaged_perceptron_tagger to\n",
            "[nltk_data]     /root/nltk_data...\n",
            "[nltk_data]   Package averaged_perceptron_tagger is already up-to-\n",
            "[nltk_data]       date!\n",
            "[nltk_data] Downloading package universal_tagset to /root/nltk_data...\n",
            "[nltk_data]   Package universal_tagset is already up-to-date!\n"
          ]
        }
      ]
    },
    {
      "cell_type": "markdown",
      "source": [
        "## Текст \"ShortStory\""
      ],
      "metadata": {
        "id": "84NWEAtOXCik"
      }
    },
    {
      "cell_type": "code",
      "source": [
        "text = '''Once upon a time there lived a young farmer. He worked very hard but was very poor. One day when he was far from home in the forest, an old woman looking like a peasant came up to him and said, «I know you work very hard, and all for nothing. I will give you a magic ring! It will make you rich, and your work won’t be in vain. When you turn the ring on your finger and say what you wish to have, you’ll have it at once! But there is only one wish in the ring, so think carefully before you wish». \n",
        "The astonished farmer took the ring given to him by the peasant woman, and went home. In evening he came to a big city. There he went to a merchant and showed him the magic ring. When the merchant heard the astonishing story, he thought of a plan. He invited the farmer to stay in his house for the night. At night he came up to the sleeping peasant, carefully took the ring off the man’s finger, and put on another ring, which looked exactly like the one he had taken off. \n",
        "In the morning when the farmer had gone away, the merchant ran into his shop, shut the door, and said while turning the ring on his finger, «I wish to have a hundred thousand pieces of gold». And down they came, on his head, shoulders, and arms, like a rain of gold! The frightened merchant tried to get out of the shop, but in vain. In a few minutes he was dead. \n",
        "When the farmer returned home, he showed the ring to his wife. «Take a look at this ring», he said. «It’s a magic ring! It will make us happy». \n",
        "The astonished woman could hardly say a word «Let’s try. Maybe the ring will bring us more land», she said at last. \n",
        "«We must be careful about our wish. Don’t forget there’s only one thing that we may ask for», he explained. «Let’s better work hard for another year, and we’ll have more land». \n",
        "So they worked as hard as they could and got enough money to buy the land they wished to have. \n",
        "Then the farmer’s wife thought of asking for a cow and a horse. They discussed the matter more than once. «My good wife», — said the farmer, — «we shall get a horse and a cow without the ring». They went on working hard for a whole year and again bought the things they wished to have. \n",
        "«What happy people we are!» said the farmer. \n",
        "«I don’t understand you», answered his wife angrily. «There’s nothing in the world that we can’t have, and still we spend days and nights working as hard as before, because you don’t want to use your magic ring!». \n",
        "Thirty, then forty years had gone by. The farmer and his wife had grown old. Their hair became as white as snow. They were happy and had everything they wanted. Their ring was still there. Although it was not a magic ring, it had made them happy.\n",
        "'''"
      ],
      "metadata": {
        "id": "2w_c5aGIXC36"
      },
      "execution_count": null,
      "outputs": []
    },
    {
      "cell_type": "markdown",
      "source": [
        "## 1. Разбить предложение на токены."
      ],
      "metadata": {
        "id": "Ut2aR7wqXwRd"
      }
    },
    {
      "cell_type": "code",
      "source": [
        "tokens = word_tokenize(text)\n",
        "print('Количество токенов:', len(tokens))\n",
        "print(tokens)"
      ],
      "metadata": {
        "colab": {
          "base_uri": "https://localhost:8080/"
        },
        "id": "FxP45pV-X-Rl",
        "outputId": "7c400c7d-55d1-4236-c122-99d8493a1694"
      },
      "execution_count": null,
      "outputs": [
        {
          "output_type": "stream",
          "name": "stdout",
          "text": [
            "Количество токенов: 648\n",
            "['Once', 'upon', 'a', 'time', 'there', 'lived', 'a', 'young', 'farmer', '.', 'He', 'worked', 'very', 'hard', 'but', 'was', 'very', 'poor', '.', 'One', 'day', 'when', 'he', 'was', 'far', 'from', 'home', 'in', 'the', 'forest', ',', 'an', 'old', 'woman', 'looking', 'like', 'a', 'peasant', 'came', 'up', 'to', 'him', 'and', 'said', ',', '«', 'I', 'know', 'you', 'work', 'very', 'hard', ',', 'and', 'all', 'for', 'nothing', '.', 'I', 'will', 'give', 'you', 'a', 'magic', 'ring', '!', 'It', 'will', 'make', 'you', 'rich', ',', 'and', 'your', 'work', 'won', '’', 't', 'be', 'in', 'vain', '.', 'When', 'you', 'turn', 'the', 'ring', 'on', 'your', 'finger', 'and', 'say', 'what', 'you', 'wish', 'to', 'have', ',', 'you', '’', 'll', 'have', 'it', 'at', 'once', '!', 'But', 'there', 'is', 'only', 'one', 'wish', 'in', 'the', 'ring', ',', 'so', 'think', 'carefully', 'before', 'you', 'wish', '»', '.', 'The', 'astonished', 'farmer', 'took', 'the', 'ring', 'given', 'to', 'him', 'by', 'the', 'peasant', 'woman', ',', 'and', 'went', 'home', '.', 'In', 'evening', 'he', 'came', 'to', 'a', 'big', 'city', '.', 'There', 'he', 'went', 'to', 'a', 'merchant', 'and', 'showed', 'him', 'the', 'magic', 'ring', '.', 'When', 'the', 'merchant', 'heard', 'the', 'astonishing', 'story', ',', 'he', 'thought', 'of', 'a', 'plan', '.', 'He', 'invited', 'the', 'farmer', 'to', 'stay', 'in', 'his', 'house', 'for', 'the', 'night', '.', 'At', 'night', 'he', 'came', 'up', 'to', 'the', 'sleeping', 'peasant', ',', 'carefully', 'took', 'the', 'ring', 'off', 'the', 'man', '’', 's', 'finger', ',', 'and', 'put', 'on', 'another', 'ring', ',', 'which', 'looked', 'exactly', 'like', 'the', 'one', 'he', 'had', 'taken', 'off', '.', 'In', 'the', 'morning', 'when', 'the', 'farmer', 'had', 'gone', 'away', ',', 'the', 'merchant', 'ran', 'into', 'his', 'shop', ',', 'shut', 'the', 'door', ',', 'and', 'said', 'while', 'turning', 'the', 'ring', 'on', 'his', 'finger', ',', '«', 'I', 'wish', 'to', 'have', 'a', 'hundred', 'thousand', 'pieces', 'of', 'gold', '»', '.', 'And', 'down', 'they', 'came', ',', 'on', 'his', 'head', ',', 'shoulders', ',', 'and', 'arms', ',', 'like', 'a', 'rain', 'of', 'gold', '!', 'The', 'frightened', 'merchant', 'tried', 'to', 'get', 'out', 'of', 'the', 'shop', ',', 'but', 'in', 'vain', '.', 'In', 'a', 'few', 'minutes', 'he', 'was', 'dead', '.', 'When', 'the', 'farmer', 'returned', 'home', ',', 'he', 'showed', 'the', 'ring', 'to', 'his', 'wife', '.', '«', 'Take', 'a', 'look', 'at', 'this', 'ring', '»', ',', 'he', 'said', '.', '«', 'It', '’', 's', 'a', 'magic', 'ring', '!', 'It', 'will', 'make', 'us', 'happy', '»', '.', 'The', 'astonished', 'woman', 'could', 'hardly', 'say', 'a', 'word', '«', 'Let', '’', 's', 'try', '.', 'Maybe', 'the', 'ring', 'will', 'bring', 'us', 'more', 'land', '»', ',', 'she', 'said', 'at', 'last', '.', '«', 'We', 'must', 'be', 'careful', 'about', 'our', 'wish', '.', 'Don', '’', 't', 'forget', 'there', '’', 's', 'only', 'one', 'thing', 'that', 'we', 'may', 'ask', 'for', '»', ',', 'he', 'explained', '.', '«', 'Let', '’', 's', 'better', 'work', 'hard', 'for', 'another', 'year', ',', 'and', 'we', '’', 'll', 'have', 'more', 'land', '»', '.', 'So', 'they', 'worked', 'as', 'hard', 'as', 'they', 'could', 'and', 'got', 'enough', 'money', 'to', 'buy', 'the', 'land', 'they', 'wished', 'to', 'have', '.', 'Then', 'the', 'farmer', '’', 's', 'wife', 'thought', 'of', 'asking', 'for', 'a', 'cow', 'and', 'a', 'horse', '.', 'They', 'discussed', 'the', 'matter', 'more', 'than', 'once', '.', '«', 'My', 'good', 'wife', '»', ',', '—', 'said', 'the', 'farmer', ',', '—', '«', 'we', 'shall', 'get', 'a', 'horse', 'and', 'a', 'cow', 'without', 'the', 'ring', '»', '.', 'They', 'went', 'on', 'working', 'hard', 'for', 'a', 'whole', 'year', 'and', 'again', 'bought', 'the', 'things', 'they', 'wished', 'to', 'have', '.', '«', 'What', 'happy', 'people', 'we', 'are', '!', '»', 'said', 'the', 'farmer', '.', '«', 'I', 'don', '’', 't', 'understand', 'you', '»', ',', 'answered', 'his', 'wife', 'angrily', '.', '«', 'There', '’', 's', 'nothing', 'in', 'the', 'world', 'that', 'we', 'can', '’', 't', 'have', ',', 'and', 'still', 'we', 'spend', 'days', 'and', 'nights', 'working', 'as', 'hard', 'as', 'before', ',', 'because', 'you', 'don', '’', 't', 'want', 'to', 'use', 'your', 'magic', 'ring', '!', '»', '.', 'Thirty', ',', 'then', 'forty', 'years', 'had', 'gone', 'by', '.', 'The', 'farmer', 'and', 'his', 'wife', 'had', 'grown', 'old', '.', 'Their', 'hair', 'became', 'as', 'white', 'as', 'snow', '.', 'They', 'were', 'happy', 'and', 'had', 'everything', 'they', 'wanted', '.', 'Their', 'ring', 'was', 'still', 'there', '.', 'Although', 'it', 'was', 'not', 'a', 'magic', 'ring', ',', 'it', 'had', 'made', 'them', 'happy', '.']\n"
          ]
        }
      ]
    },
    {
      "cell_type": "markdown",
      "source": [
        "## 2. Убрать из токенов стоп слова. "
      ],
      "metadata": {
        "id": "FlKwlrn9X01q"
      }
    },
    {
      "cell_type": "code",
      "source": [
        "# Предварительная обработка массива токенизированного текста\n",
        "stop_words = nltk.corpus.stopwords.words('english')\n",
        "remove_tokens = list(punctuation + '’«»—') + stop_words\n",
        "\n",
        "# Приведение в нижний регистр и удаление знаков препинаний и стоп слов\n",
        "norm_tokens = [word.lower() for word in tokens if word.lower() not in remove_tokens]\n",
        "\n",
        "# Оставляет слова, длина которых больше двух символов\n",
        "norm_tokens = [word for word in norm_tokens if len(word) > 2]\n",
        "\n",
        "print('Количество токенов:', len(norm_tokens))\n",
        "print('Обработанный массив токенов:', norm_tokens)"
      ],
      "metadata": {
        "colab": {
          "base_uri": "https://localhost:8080/"
        },
        "id": "1ccMEvHPX-rR",
        "outputId": "f920e232-075e-4797-8859-17ef45a76888"
      },
      "execution_count": null,
      "outputs": [
        {
          "output_type": "stream",
          "name": "stdout",
          "text": [
            "Количество токенов: 242\n",
            "Обработанный массив токенов: ['upon', 'time', 'lived', 'young', 'farmer', 'worked', 'hard', 'poor', 'one', 'day', 'far', 'home', 'forest', 'old', 'woman', 'looking', 'like', 'peasant', 'came', 'said', 'know', 'work', 'hard', 'nothing', 'give', 'magic', 'ring', 'make', 'rich', 'work', 'vain', 'turn', 'ring', 'finger', 'say', 'wish', 'one', 'wish', 'ring', 'think', 'carefully', 'wish', 'astonished', 'farmer', 'took', 'ring', 'given', 'peasant', 'woman', 'went', 'home', 'evening', 'came', 'big', 'city', 'went', 'merchant', 'showed', 'magic', 'ring', 'merchant', 'heard', 'astonishing', 'story', 'thought', 'plan', 'invited', 'farmer', 'stay', 'house', 'night', 'night', 'came', 'sleeping', 'peasant', 'carefully', 'took', 'ring', 'man', 'finger', 'put', 'another', 'ring', 'looked', 'exactly', 'like', 'one', 'taken', 'morning', 'farmer', 'gone', 'away', 'merchant', 'ran', 'shop', 'shut', 'door', 'said', 'turning', 'ring', 'finger', 'wish', 'hundred', 'thousand', 'pieces', 'gold', 'came', 'head', 'shoulders', 'arms', 'like', 'rain', 'gold', 'frightened', 'merchant', 'tried', 'get', 'shop', 'vain', 'minutes', 'dead', 'farmer', 'returned', 'home', 'showed', 'ring', 'wife', 'take', 'look', 'ring', 'said', 'magic', 'ring', 'make', 'happy', 'astonished', 'woman', 'could', 'hardly', 'say', 'word', 'let', 'try', 'maybe', 'ring', 'bring', 'land', 'said', 'last', 'must', 'careful', 'wish', 'forget', 'one', 'thing', 'may', 'ask', 'explained', 'let', 'better', 'work', 'hard', 'another', 'year', 'land', 'worked', 'hard', 'could', 'got', 'enough', 'money', 'buy', 'land', 'wished', 'farmer', 'wife', 'thought', 'asking', 'cow', 'horse', 'discussed', 'matter', 'good', 'wife', 'said', 'farmer', 'shall', 'get', 'horse', 'cow', 'without', 'ring', 'went', 'working', 'hard', 'whole', 'year', 'bought', 'things', 'wished', 'happy', 'people', 'said', 'farmer', 'understand', 'answered', 'wife', 'angrily', 'nothing', 'world', 'still', 'spend', 'days', 'nights', 'working', 'hard', 'want', 'use', 'magic', 'ring', 'thirty', 'forty', 'years', 'gone', 'farmer', 'wife', 'grown', 'old', 'hair', 'became', 'white', 'snow', 'happy', 'everything', 'wanted', 'ring', 'still', 'although', 'magic', 'ring', 'made', 'happy']\n"
          ]
        }
      ]
    },
    {
      "cell_type": "markdown",
      "source": [
        "## 3. Найти часто встречающиеся токены и вывести 10 штук на графике"
      ],
      "metadata": {
        "id": "d9semr4lX1GO"
      }
    },
    {
      "cell_type": "code",
      "source": [
        "# Частотное распределение всех слов в тексте\n",
        "fdist = nltk.FreqDist(norm_tokens)\n",
        "\n",
        "# Введем параметр, чтобы вернуть список первых 10 элементов\n",
        "fdist_most_common = dict(fdist.most_common(10))\n",
        "\n",
        "plt_tokens = fdist_most_common.keys()\n",
        "plt_frequencies = pd.Series(fdist_most_common.values())\n",
        "\n",
        "plt.figure(figsize=(12, 8))\n",
        "\n",
        "ax = plt_frequencies.plot(kind=\"bar\")\n",
        "ax.set_title(\"Частота слов\")\n",
        "ax.set_xticklabels(plt_tokens)\n",
        "plt.grid()\n",
        "plt.show()"
      ],
      "metadata": {
        "colab": {
          "base_uri": "https://localhost:8080/",
          "height": 537
        },
        "id": "ed6Fb3DVX_GY",
        "outputId": "07a550e2-eedb-4076-9ddc-5c9b08947201"
      },
      "execution_count": null,
      "outputs": [
        {
          "output_type": "display_data",
          "data": {
            "text/plain": [
              "<Figure size 864x576 with 1 Axes>"
            ],
            "image/png": "[encoded data removed]"
          },
          "metadata": {
            "needs_background": "light"
          }
        }
      ]
    },
    {
      "cell_type": "markdown",
      "source": [
        "## 4. Посчитать количество существительных и прилагательных."
      ],
      "metadata": {
        "id": "HNR9Oc-0X1W1"
      }
    },
    {
      "cell_type": "code",
      "source": [
        "# Подсчет количества повторений элементов\n",
        "cnt = dict(Counter(word for key, word in pos_tag(norm_tokens)).items())\n",
        "\n",
        "print('Количество существительных:', cnt['NN'])\n",
        "print('Количество прилагательных:', cnt['JJ'])"
      ],
      "metadata": {
        "colab": {
          "base_uri": "https://localhost:8080/"
        },
        "id": "9spXgEefX_cu",
        "outputId": "6c0f9f6e-004b-4ee2-f675-ecd15e618f4c"
      },
      "execution_count": null,
      "outputs": [
        {
          "output_type": "stream",
          "name": "stdout",
          "text": [
            "Количество существительных: 76\n",
            "Количество прилагательных: 38\n"
          ]
        }
      ]
    },
    {
      "cell_type": "markdown",
      "source": [
        "## 5. По самым встречающимся словам, взять все предложения с этими словами и вывести их в порядке появления в тексте."
      ],
      "metadata": {
        "id": "He3AGaWOnNX0"
      }
    },
    {
      "cell_type": "code",
      "source": [
        "sentences = sent_tokenize(text)\n",
        "\n",
        "for token, count in fdist.most_common(10):\n",
        "    result = [sent for sent in sentences if token in word_tokenize(sent)]\n",
        "    print(token, result)"
      ],
      "metadata": {
        "colab": {
          "base_uri": "https://localhost:8080/"
        },
        "id": "6NPyJ2m_nlob",
        "outputId": "e4543f53-a99a-4c35-cd3e-73748f41983f"
      },
      "execution_count": null,
      "outputs": [
        {
          "output_type": "stream",
          "name": "stdout",
          "text": [
            "ring ['I will give you a magic ring!', 'When you turn the ring on your finger and say what you wish to have, you’ll have it at once!', 'But there is only one wish in the ring, so think carefully before you wish».', 'The astonished farmer took the ring given to him by the peasant woman, and went home.', 'There he went to a merchant and showed him the magic ring.', 'At night he came up to the sleeping peasant, carefully took the ring off the man’s finger, and put on another ring, which looked exactly like the one he had taken off.', 'In the morning when the farmer had gone away, the merchant ran into his shop, shut the door, and said while turning the ring on his finger, «I wish to have a hundred thousand pieces of gold».', 'When the farmer returned home, he showed the ring to his wife.', '«Take a look at this ring», he said.', '«It’s a magic ring!', 'Maybe the ring will bring us more land», she said at last.', '«My good wife», — said the farmer, — «we shall get a horse and a cow without the ring».', '«There’s nothing in the world that we can’t have, and still we spend days and nights working as hard as before, because you don’t want to use your magic ring!».', 'Their ring was still there.', 'Although it was not a magic ring, it had made them happy.']\n",
            "farmer ['Once upon a time there lived a young farmer.', 'The astonished farmer took the ring given to him by the peasant woman, and went home.', 'He invited the farmer to stay in his house for the night.', 'In the morning when the farmer had gone away, the merchant ran into his shop, shut the door, and said while turning the ring on his finger, «I wish to have a hundred thousand pieces of gold».', 'When the farmer returned home, he showed the ring to his wife.', 'Then the farmer’s wife thought of asking for a cow and a horse.', '«My good wife», — said the farmer, — «we shall get a horse and a cow without the ring».', '«What happy people we are!» said the farmer.', 'The farmer and his wife had grown old.']\n",
            "hard ['He worked very hard but was very poor.', 'One day when he was far from home in the forest, an old woman looking like a peasant came up to him and said, «I know you work very hard, and all for nothing.', '«Let’s better work hard for another year, and we’ll have more land».', 'So they worked as hard as they could and got enough money to buy the land they wished to have.', 'They went on working hard for a whole year and again bought the things they wished to have.', '«There’s nothing in the world that we can’t have, and still we spend days and nights working as hard as before, because you don’t want to use your magic ring!».']\n",
            "said ['One day when he was far from home in the forest, an old woman looking like a peasant came up to him and said, «I know you work very hard, and all for nothing.', 'In the morning when the farmer had gone away, the merchant ran into his shop, shut the door, and said while turning the ring on his finger, «I wish to have a hundred thousand pieces of gold».', '«Take a look at this ring», he said.', 'Maybe the ring will bring us more land», she said at last.', '«My good wife», — said the farmer, — «we shall get a horse and a cow without the ring».', '«What happy people we are!» said the farmer.']\n",
            "magic ['I will give you a magic ring!', 'There he went to a merchant and showed him the magic ring.', '«It’s a magic ring!', '«There’s nothing in the world that we can’t have, and still we spend days and nights working as hard as before, because you don’t want to use your magic ring!».', 'Although it was not a magic ring, it had made them happy.']\n",
            "wish ['When you turn the ring on your finger and say what you wish to have, you’ll have it at once!', 'But there is only one wish in the ring, so think carefully before you wish».', 'In the morning when the farmer had gone away, the merchant ran into his shop, shut the door, and said while turning the ring on his finger, «I wish to have a hundred thousand pieces of gold».', '«We must be careful about our wish.']\n",
            "wife ['When the farmer returned home, he showed the ring to his wife.', 'Then the farmer’s wife thought of asking for a cow and a horse.', '«My good wife», — said the farmer, — «we shall get a horse and a cow without the ring».', '«I don’t understand you», answered his wife angrily.', 'The farmer and his wife had grown old.']\n",
            "one ['But there is only one wish in the ring, so think carefully before you wish».', 'At night he came up to the sleeping peasant, carefully took the ring off the man’s finger, and put on another ring, which looked exactly like the one he had taken off.', 'Don’t forget there’s only one thing that we may ask for», he explained.']\n",
            "came ['One day when he was far from home in the forest, an old woman looking like a peasant came up to him and said, «I know you work very hard, and all for nothing.', 'In evening he came to a big city.', 'At night he came up to the sleeping peasant, carefully took the ring off the man’s finger, and put on another ring, which looked exactly like the one he had taken off.', 'And down they came, on his head, shoulders, and arms, like a rain of gold!']\n",
            "merchant ['There he went to a merchant and showed him the magic ring.', 'When the merchant heard the astonishing story, he thought of a plan.', 'In the morning when the farmer had gone away, the merchant ran into his shop, shut the door, and said while turning the ring on his finger, «I wish to have a hundred thousand pieces of gold».', 'The frightened merchant tried to get out of the shop, but in vain.']\n"
          ]
        }
      ]
    },
    {
      "cell_type": "markdown",
      "source": [
        "## 6. Получить настроение текста."
      ],
      "metadata": {
        "id": "05KFsGxYniAA"
      }
    },
    {
      "cell_type": "code",
      "source": [
        "print(SentimentIntensityAnalyzer().polarity_scores(text))"
      ],
      "metadata": {
        "colab": {
          "base_uri": "https://localhost:8080/"
        },
        "id": "IwB_g08jyzIu",
        "outputId": "9b46d9de-1601-4c0f-c011-62eec7975e47"
      },
      "execution_count": null,
      "outputs": [
        {
          "output_type": "stream",
          "name": "stdout",
          "text": [
            "{'neg': 0.069, 'neu': 0.812, 'pos': 0.119, 'compound': 0.985}\n"
          ]
        }
      ]
    },
    {
      "cell_type": "markdown",
      "source": [
        "### Настроение по предложениям"
      ],
      "metadata": {
        "id": "9kuFi4NVy96r"
      }
    },
    {
      "cell_type": "code",
      "source": [
        "for sentence in sentences:\n",
        "  print(sentence)\n",
        "  mood = SentimentIntensityAnalyzer().polarity_scores(sentence)\n",
        "  \n",
        "  for elem in sorted(mood):\n",
        "    print('{0}: {1}'.format(elem, mood[elem]))\n",
        "  print()"
      ],
      "metadata": {
        "colab": {
          "base_uri": "https://localhost:8080/"
        },
        "id": "DX5R8uzFp0X5",
        "outputId": "1ba759ab-fea9-4a2c-fa2d-bbcd6d9d90cd"
      },
      "execution_count": null,
      "outputs": [
        {
          "output_type": "stream",
          "name": "stdout",
          "text": [
            "Once upon a time there lived a young farmer.\n",
            "compound: 0.0\n",
            "neg: 0.0\n",
            "neu: 1.0\n",
            "pos: 0.0\n",
            "\n",
            "He worked very hard but was very poor.\n",
            "compound: -0.7128\n",
            "neg: 0.497\n",
            "neu: 0.503\n",
            "pos: 0.0\n",
            "\n",
            "One day when he was far from home in the forest, an old woman looking like a peasant came up to him and said, «I know you work very hard, and all for nothing.\n",
            "compound: 0.204\n",
            "neg: 0.048\n",
            "neu: 0.881\n",
            "pos: 0.071\n",
            "\n",
            "I will give you a magic ring!\n",
            "compound: 0.0\n",
            "neg: 0.0\n",
            "neu: 1.0\n",
            "pos: 0.0\n",
            "\n",
            "It will make you rich, and your work won’t be in vain.\n",
            "compound: 0.2023\n",
            "neg: 0.171\n",
            "neu: 0.61\n",
            "pos: 0.22\n",
            "\n",
            "When you turn the ring on your finger and say what you wish to have, you’ll have it at once!\n",
            "compound: 0.4574\n",
            "neg: 0.0\n",
            "neu: 0.864\n",
            "pos: 0.136\n",
            "\n",
            "But there is only one wish in the ring, so think carefully before you wish».\n",
            "compound: 0.6925\n",
            "neg: 0.0\n",
            "neu: 0.695\n",
            "pos: 0.305\n",
            "\n",
            "The astonished farmer took the ring given to him by the peasant woman, and went home.\n",
            "compound: 0.3818\n",
            "neg: 0.0\n",
            "neu: 0.852\n",
            "pos: 0.148\n",
            "\n",
            "In evening he came to a big city.\n",
            "compound: 0.0\n",
            "neg: 0.0\n",
            "neu: 1.0\n",
            "pos: 0.0\n",
            "\n",
            "There he went to a merchant and showed him the magic ring.\n",
            "compound: 0.0\n",
            "neg: 0.0\n",
            "neu: 1.0\n",
            "pos: 0.0\n",
            "\n",
            "When the merchant heard the astonishing story, he thought of a plan.\n",
            "compound: 0.0\n",
            "neg: 0.0\n",
            "neu: 1.0\n",
            "pos: 0.0\n",
            "\n",
            "He invited the farmer to stay in his house for the night.\n",
            "compound: 0.0\n",
            "neg: 0.0\n",
            "neu: 1.0\n",
            "pos: 0.0\n",
            "\n",
            "At night he came up to the sleeping peasant, carefully took the ring off the man’s finger, and put on another ring, which looked exactly like the one he had taken off.\n",
            "compound: 0.4588\n",
            "neg: 0.0\n",
            "neu: 0.882\n",
            "pos: 0.118\n",
            "\n",
            "In the morning when the farmer had gone away, the merchant ran into his shop, shut the door, and said while turning the ring on his finger, «I wish to have a hundred thousand pieces of gold».\n",
            "compound: 0.4019\n",
            "neg: 0.0\n",
            "neu: 0.928\n",
            "pos: 0.072\n",
            "\n",
            "And down they came, on his head, shoulders, and arms, like a rain of gold!\n",
            "compound: 0.4199\n",
            "neg: 0.0\n",
            "neu: 0.823\n",
            "pos: 0.177\n",
            "\n",
            "The frightened merchant tried to get out of the shop, but in vain.\n",
            "compound: -0.6858\n",
            "neg: 0.339\n",
            "neu: 0.661\n",
            "pos: 0.0\n",
            "\n",
            "In a few minutes he was dead.\n",
            "compound: -0.6486\n",
            "neg: 0.462\n",
            "neu: 0.538\n",
            "pos: 0.0\n",
            "\n",
            "When the farmer returned home, he showed the ring to his wife.\n",
            "compound: 0.0\n",
            "neg: 0.0\n",
            "neu: 1.0\n",
            "pos: 0.0\n",
            "\n",
            "«Take a look at this ring», he said.\n",
            "compound: 0.0\n",
            "neg: 0.0\n",
            "neu: 1.0\n",
            "pos: 0.0\n",
            "\n",
            "«It’s a magic ring!\n",
            "compound: 0.0\n",
            "neg: 0.0\n",
            "neu: 1.0\n",
            "pos: 0.0\n",
            "\n",
            "It will make us happy».\n",
            "compound: 0.0\n",
            "neg: 0.0\n",
            "neu: 1.0\n",
            "pos: 0.0\n",
            "\n",
            "The astonished woman could hardly say a word «Let’s try.\n",
            "compound: 0.3818\n",
            "neg: 0.0\n",
            "neu: 0.755\n",
            "pos: 0.245\n",
            "\n",
            "Maybe the ring will bring us more land», she said at last.\n",
            "compound: 0.0\n",
            "neg: 0.0\n",
            "neu: 1.0\n",
            "pos: 0.0\n",
            "\n",
            "«We must be careful about our wish.\n",
            "compound: 0.5106\n",
            "neg: 0.0\n",
            "neu: 0.538\n",
            "pos: 0.462\n",
            "\n",
            "Don’t forget there’s only one thing that we may ask for», he explained.\n",
            "compound: -0.2263\n",
            "neg: 0.137\n",
            "neu: 0.863\n",
            "pos: 0.0\n",
            "\n",
            "«Let’s better work hard for another year, and we’ll have more land».\n",
            "compound: 0.3612\n",
            "neg: 0.098\n",
            "neu: 0.699\n",
            "pos: 0.203\n",
            "\n",
            "So they worked as hard as they could and got enough money to buy the land they wished to have.\n",
            "compound: -0.1027\n",
            "neg: 0.069\n",
            "neu: 0.931\n",
            "pos: 0.0\n",
            "\n",
            "Then the farmer’s wife thought of asking for a cow and a horse.\n",
            "compound: 0.0\n",
            "neg: 0.0\n",
            "neu: 1.0\n",
            "pos: 0.0\n",
            "\n",
            "They discussed the matter more than once.\n",
            "compound: 0.0258\n",
            "neg: 0.0\n",
            "neu: 0.845\n",
            "pos: 0.155\n",
            "\n",
            "«My good wife», — said the farmer, — «we shall get a horse and a cow without the ring».\n",
            "compound: 0.4404\n",
            "neg: 0.0\n",
            "neu: 0.828\n",
            "pos: 0.172\n",
            "\n",
            "They went on working hard for a whole year and again bought the things they wished to have.\n",
            "compound: -0.1027\n",
            "neg: 0.08\n",
            "neu: 0.92\n",
            "pos: 0.0\n",
            "\n",
            "«What happy people we are!» said the farmer.\n",
            "compound: 0.6114\n",
            "neg: 0.0\n",
            "neu: 0.637\n",
            "pos: 0.363\n",
            "\n",
            "«I don’t understand you», answered his wife angrily.\n",
            "compound: -0.4215\n",
            "neg: 0.286\n",
            "neu: 0.714\n",
            "pos: 0.0\n",
            "\n",
            "«There’s nothing in the world that we can’t have, and still we spend days and nights working as hard as before, because you don’t want to use your magic ring!».\n",
            "compound: -0.1007\n",
            "neg: 0.055\n",
            "neu: 0.903\n",
            "pos: 0.042\n",
            "\n",
            "Thirty, then forty years had gone by.\n",
            "compound: 0.0\n",
            "neg: 0.0\n",
            "neu: 1.0\n",
            "pos: 0.0\n",
            "\n",
            "The farmer and his wife had grown old.\n",
            "compound: 0.0\n",
            "neg: 0.0\n",
            "neu: 1.0\n",
            "pos: 0.0\n",
            "\n",
            "Their hair became as white as snow.\n",
            "compound: 0.0\n",
            "neg: 0.0\n",
            "neu: 1.0\n",
            "pos: 0.0\n",
            "\n",
            "They were happy and had everything they wanted.\n",
            "compound: 0.5719\n",
            "neg: 0.0\n",
            "neu: 0.654\n",
            "pos: 0.346\n",
            "\n",
            "Their ring was still there.\n",
            "compound: 0.0\n",
            "neg: 0.0\n",
            "neu: 1.0\n",
            "pos: 0.0\n",
            "\n",
            "Although it was not a magic ring, it had made them happy.\n",
            "compound: 0.5719\n",
            "neg: 0.0\n",
            "neu: 0.73\n",
            "pos: 0.27\n",
            "\n"
          ]
        }
      ]
    }
  ]
}