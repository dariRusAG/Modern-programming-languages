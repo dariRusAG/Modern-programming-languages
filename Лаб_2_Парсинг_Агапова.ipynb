{
  "nbformat": 4,
  "nbformat_minor": 0,
  "metadata": {
    "colab": {
      "provenance": [],
      "authorship_tag": "ABX9TyPKhhz1GCRkZ8Auj755jKAf",
      "include_colab_link": true
    },
    "kernelspec": {
      "name": "python3",
      "display_name": "Python 3"
    },
    "language_info": {
      "name": "python"
    }
  },
  "cells": [
    {
      "cell_type": "markdown",
      "metadata": {
        "id": "view-in-github",
        "colab_type": "text"
      },
      "source": [
        "<a href=\"https://colab.research.google.com/github/dariRusAG/Modern-programming-languages/blob/main/%D0%9B%D0%B0%D0%B1_2_%D0%9F%D0%B0%D1%80%D1%81%D0%B8%D0%BD%D0%B3_%D0%90%D0%B3%D0%B0%D0%BF%D0%BE%D0%B2%D0%B0.ipynb\" target=\"_parent\"><img src=\"https://colab.research.google.com/assets/colab-badge.svg\" alt=\"Open In Colab\"/></a>"
      ]
    },
    {
      "cell_type": "markdown",
      "source": [
        "# Задание\n",
        "Пользователь хочет узнать всю информацию о погоде за 10 дней, начиная с сегодняшнего.\n",
        "\n",
        "Необходимо получить информацию в удобном для чтения виде и вывести в эксель."
      ],
      "metadata": {
        "id": "UO7jj6CO7v0p"
      }
    },
    {
      "cell_type": "code",
      "execution_count": 6,
      "metadata": {
        "id": "bMW8D5ymw5Wi"
      },
      "outputs": [],
      "source": [
        "# !pip install xlsxwriter\n",
        "# !pip install requests_html\n",
        "\n",
        "import requests\n",
        "import pandas as pd\n",
        "from requests_html import HTMLSession"
      ]
    },
    {
      "cell_type": "code",
      "source": [
        "session = HTMLSession()\n",
        "r = session.get(\"https://yandex.com.am/weather/?lat=43.11554337&lon=131.885498&via=srp\")\n",
        "\n",
        "info = r.html.find('.forecast-briefly__day-link')\n",
        "\n",
        "info_list = []\n",
        "iloc = 0\n",
        "\n",
        "for elem in info:\n",
        "  text = elem.text\n",
        "  info_list.append(elem.text.split(\"\\n\"))\n",
        "\n",
        "info_list[1][2] = info_list[1][2][4:]\n",
        "info_list[1][3] = info_list[1][3][5:]\n",
        "\n",
        "df = pd.DataFrame(columns=['День недели', 'Дата', 'Температура днем', 'Температура ночью', 'Погода'])\n",
        "\n",
        "for elem in info_list[:11]:\n",
        "  if info_list[0] != elem:\n",
        "    df.loc[iloc, 'День недели'] = elem[0]\n",
        "    df.loc[iloc, 'Дата'] = elem[1]\n",
        "    df.loc[iloc, 'Температура днем'] = elem[2]\n",
        "    df.loc[iloc, 'Температура ночью'] = elem[3]\n",
        "    df.loc[iloc, 'Погода'] = elem[4]\n",
        "  iloc += 1\n",
        "\n",
        "writer = pd.ExcelWriter('output.xlsx')\n",
        "df.to_excel(writer, sheet_name='Парсинг прогноза погоды') \n",
        "\n",
        "for column in df:\n",
        "  column_width = max(df[column].astype(str).map(len).max(), len(column)) + 6\n",
        "  col_idx = df.columns.get_loc(column)\n",
        "  writer.sheets['Парсинг прогноза погоды'].set_column(col_idx, col_idx, column_width)\n",
        "\n",
        "writer.save()"
      ],
      "metadata": {
        "id": "e49ikQ8dexz9"
      },
      "execution_count": null,
      "outputs": []
    }
  ]
}